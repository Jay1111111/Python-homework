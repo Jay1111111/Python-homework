{
 "cells": [
  {
   "cell_type": "code",
   "execution_count": 1,
   "metadata": {},
   "outputs": [
    {
     "data": {
      "text/plain": [
       "8"
      ]
     },
     "execution_count": 1,
     "metadata": {},
     "output_type": "execute_result"
    }
   ],
   "source": [
    "def fib(i):\n",
    "    if i==0 or i==1:\n",
    "        return 1\n",
    "    else:\n",
    "        return fib(i-1)+fib(i-2)\n",
    "fib(5)"
   ]
  },
  {
   "cell_type": "code",
   "execution_count": 6,
   "metadata": {},
   "outputs": [
    {
     "name": "stdout",
     "output_type": "stream",
     "text": [
      "a->c\n",
      "a->b\n",
      "c->b\n",
      "a->c\n",
      "b->a\n",
      "b->c\n",
      "a->c\n"
     ]
    }
   ],
   "source": [
    "def hanoi(n,source,dest,temp):\n",
    "    if n==1:\n",
    "        print('{}->{}'.format(source,dest))\n",
    "    else:\n",
    "        hanoi(n-1,source,temp,dest)\n",
    "        print('{}->{}'.format(source,dest))\n",
    "        hanoi(n-1,temp,dest,source)\n",
    "hanoi(3,'a','c','b')"
   ]
  },
  {
   "cell_type": "code",
   "execution_count": 18,
   "metadata": {},
   "outputs": [],
   "source": [
    "__metaclass__=type\n",
    "class Person:\n",
    "    def __init__(self):\n",
    "        print('hello')\n",
    "    def __init__(self,name=None):\n",
    "        if not name is None:\n",
    "            self.set_name(name)\n",
    "    def set_name(self,name):\n",
    "        if isinstance(name,str):\n",
    "            self.__name=name\n",
    "        else:\n",
    "            print('invalid name when calling set_name')\n",
    "    def get_name(self):\n",
    "        return self.__name\n",
    "    def greet(self):\n",
    "        print(\"hello,i am{}\".format(self.__name))\n",
    "        "
   ]
  },
  {
   "cell_type": "markdown",
   "metadata": {},
   "source": [
    "# 接口"
   ]
  },
  {
   "cell_type": "code",
   "execution_count": 22,
   "metadata": {},
   "outputs": [
    {
     "name": "stdout",
     "output_type": "stream",
     "text": [
      "wang\n",
      "miao\n",
      "i cannot talk\n"
     ]
    }
   ],
   "source": [
    "__metaclass__=type\n",
    "class Dog:\n",
    "    def talk(self):\n",
    "        print('wang')\n",
    "class Cat:\n",
    "    def talk(self):\n",
    "        print('miao')\n",
    "class Turtle:\n",
    "    pass\n",
    "animals=[]\n",
    "animals.append(Dog())\n",
    "animals.append(Cat())\n",
    "animals.append(Turtle())\n",
    "for animal in animals:\n",
    "    if hasattr(animal,'talk'):\n",
    "        animal.talk()\n",
    "    else:\n",
    "        print('i cannot talk')"
   ]
  },
  {
   "cell_type": "code",
   "execution_count": 26,
   "metadata": {},
   "outputs": [
    {
     "name": "stdout",
     "output_type": "stream",
     "text": [
      "wang\n"
     ]
    }
   ],
   "source": [
    "from abc import ABC,abstractmethod\n",
    "class Talker(ABC):\n",
    "    @abstractmethod\n",
    "    def talk(self):\n",
    "        pass\n",
    "class Dog(Talker):\n",
    "    def talk(self):\n",
    "        print('wang')\n",
    "dog=Dog()\n",
    "dog.talk()"
   ]
  },
  {
   "cell_type": "code",
   "execution_count": 27,
   "metadata": {},
   "outputs": [],
   "source": [
    "class TalkerContainer:\n",
    "    def __init__(self):\n",
    "        self.__animal=[]\n",
    "    def add__talker(self,talker):\n",
    "        self.__animals.append(talker)\n",
    "    def talk(self):\n",
    "        for animal in self.__animals:\n",
    "            animal.talk()"
   ]
  },
  {
   "cell_type": "code",
   "execution_count": null,
   "metadata": {},
   "outputs": [],
   "source": []
  }
 ],
 "metadata": {
  "kernelspec": {
   "display_name": "Python 3",
   "language": "python",
   "name": "python3"
  },
  "language_info": {
   "codemirror_mode": {
    "name": "ipython",
    "version": 3
   },
   "file_extension": ".py",
   "mimetype": "text/x-python",
   "name": "python",
   "nbconvert_exporter": "python",
   "pygments_lexer": "ipython3",
   "version": "3.7.1"
  }
 },
 "nbformat": 4,
 "nbformat_minor": 2
}
