{
 "cells": [
  {
   "cell_type": "code",
   "execution_count": null,
   "metadata": {},
   "outputs": [],
   "source": [
    "setup_bar()\n",
    "setup_ants()\n",
    "while not bar_is_empty():\n",
    "    update_bar()\n",
    "    show_bar()\n",
    "    wait()\n",
    "    update_ants()\n",
    "import math\n",
    "bar=list()\n",
    "for i in range(0,80):\n",
    "    bar.append(' ')\n",
    "x=0\n",
    "y=79\n",
    "for i in range(0,80):\n",
    "    bar[x]='*'\n",
    "    bar[y]='*'\n",
    "    for ch in bar:\n",
    "        print(ch,sep=' ',end=' ')"
   ]
  },
  {
   "cell_type": "code",
   "execution_count": 3,
   "metadata": {},
   "outputs": [
    {
     "name": "stdout",
     "output_type": "stream",
     "text": [
      "[1.5, [2, 3]]\n",
      "[1.5, [2, 3]]\n"
     ]
    }
   ],
   "source": [
    "list_1=[1,[2,3]]\n",
    "list_2=list_1\n",
    "list_2[0]=1.5\n",
    "print(list_1)\n",
    "print(list_2)"
   ]
  },
  {
   "cell_type": "code",
   "execution_count": 4,
   "metadata": {},
   "outputs": [],
   "source": [
    "list_1=[1,[2,3]]\n",
    "list_2=list_1.copy()\n",
    "list_2.append(4)"
   ]
  },
  {
   "cell_type": "code",
   "execution_count": 5,
   "metadata": {},
   "outputs": [
    {
     "name": "stdout",
     "output_type": "stream",
     "text": [
      "[1, [2, 3]]\n",
      "[1, [2, 3], 4]\n"
     ]
    }
   ],
   "source": [
    "print(list_1)\n",
    "print(list_2)"
   ]
  },
  {
   "cell_type": "code",
   "execution_count": 6,
   "metadata": {},
   "outputs": [
    {
     "name": "stdout",
     "output_type": "stream",
     "text": [
      "[1, [250, 3]]\n",
      "[1, [250, 3], 4]\n"
     ]
    }
   ],
   "source": [
    "list_2[1][0]=250\n",
    "print(list_1)\n",
    "print(list_2)"
   ]
  },
  {
   "cell_type": "code",
   "execution_count": 9,
   "metadata": {},
   "outputs": [
    {
     "name": "stdout",
     "output_type": "stream",
     "text": [
      "[1, [2, 3]]\n",
      "[1, [250, 3]]\n"
     ]
    }
   ],
   "source": [
    "from copy import deepcopy\n",
    "list_1=[1,[2,3]]\n",
    "list_2=deepcopy(list_1)\n",
    "list_2[1][0]=250\n",
    "print(list_1)\n",
    "print(list_2)"
   ]
  },
  {
   "cell_type": "code",
   "execution_count": 10,
   "metadata": {},
   "outputs": [
    {
     "name": "stdout",
     "output_type": "stream",
     "text": [
      "6\n"
     ]
    }
   ],
   "source": [
    "def double_it(x):\n",
    "    x*=2\n",
    "    return x\n",
    "x=3\n",
    "x=double_it(x)\n",
    "print(x)"
   ]
  },
  {
   "cell_type": "code",
   "execution_count": 13,
   "metadata": {},
   "outputs": [
    {
     "name": "stdout",
     "output_type": "stream",
     "text": [
      "['hi']\n"
     ]
    }
   ],
   "source": [
    "def change_it(a_list):\n",
    "    a_list=['hello']\n",
    "my_list=['hi']\n",
    "change_it(my_list)\n",
    "print(my_list)"
   ]
  },
  {
   "cell_type": "code",
   "execution_count": 14,
   "metadata": {},
   "outputs": [
    {
     "name": "stdout",
     "output_type": "stream",
     "text": [
      "hello,world\n"
     ]
    }
   ],
   "source": [
    "def hello_1(greeting,name):\n",
    "    print('{},{}'.format(greeting,name))\n",
    "hello_1('hello','world')"
   ]
  },
  {
   "cell_type": "code",
   "execution_count": 15,
   "metadata": {},
   "outputs": [
    {
     "name": "stdout",
     "output_type": "stream",
     "text": [
      "hello,world\n"
     ]
    }
   ],
   "source": [
    "hello_1(name='world',greeting='hello')"
   ]
  },
  {
   "cell_type": "code",
   "execution_count": 16,
   "metadata": {},
   "outputs": [
    {
     "name": "stdout",
     "output_type": "stream",
     "text": [
      "world,hello\n"
     ]
    }
   ],
   "source": [
    "def hello_2(name,greeting):\n",
    "    print('{},{}'.format(greeting,name))\n",
    "hello_2('hello','world')"
   ]
  },
  {
   "cell_type": "code",
   "execution_count": 17,
   "metadata": {},
   "outputs": [
    {
     "name": "stdout",
     "output_type": "stream",
     "text": [
      "hello,world\n"
     ]
    }
   ],
   "source": [
    "hello_2(name='world',greeting='hello')"
   ]
  },
  {
   "cell_type": "code",
   "execution_count": 21,
   "metadata": {},
   "outputs": [
    {
     "name": "stdout",
     "output_type": "stream",
     "text": [
      "year:1988 month:4 day:16\n"
     ]
    }
   ],
   "source": [
    "def print_date(year,month,day):\n",
    "    print('year:{} month:{} day:{}'.format(year,month,day))\n",
    "print_date(month=4,day=16,year=1988)"
   ]
  },
  {
   "cell_type": "code",
   "execution_count": 25,
   "metadata": {},
   "outputs": [
    {
     "name": "stdout",
     "output_type": "stream",
     "text": [
      "hello,world\n"
     ]
    }
   ],
   "source": [
    "def hello_3(name='world',greeting='hello'):\n",
    "    print('{},{}'.format(greeting,name))\n",
    "hello_3()\n"
   ]
  },
  {
   "cell_type": "code",
   "execution_count": null,
   "metadata": {},
   "outputs": [],
   "source": []
  }
 ],
 "metadata": {
  "kernelspec": {
   "display_name": "Python 3",
   "language": "python",
   "name": "python3"
  },
  "language_info": {
   "codemirror_mode": {
    "name": "ipython",
    "version": 3
   },
   "file_extension": ".py",
   "mimetype": "text/x-python",
   "name": "python",
   "nbconvert_exporter": "python",
   "pygments_lexer": "ipython3",
   "version": "3.7.1"
  }
 },
 "nbformat": 4,
 "nbformat_minor": 2
}
